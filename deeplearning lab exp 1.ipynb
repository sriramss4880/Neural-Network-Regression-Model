{
  "nbformat": 4,
  "nbformat_minor": 0,
  "metadata": {
    "colab": {
      "provenance": []
    },
    "kernelspec": {
      "name": "python3",
      "display_name": "Python 3"
    },
    "language_info": {
      "name": "python"
    }
  },
  "cells": [
    {
      "cell_type": "code",
      "execution_count": null,
      "metadata": {
        "id": "VJOBET7aZuAs"
      },
      "outputs": [],
      "source": [
        "import torch\n",
        "import torch.nn as nn\n",
        "import torch.optim as optim\n",
        "import pandas as pd\n",
        "from sklearn.model_selection import train_test_split\n",
        "from sklearn.preprocessing import MinMaxScaler"
      ]
    },
    {
      "cell_type": "markdown",
      "source": [
        "# New section"
      ],
      "metadata": {
        "id": "DXxLHhP6lpWJ"
      }
    },
    {
      "cell_type": "code",
      "source": [
        "dataset1 = pd.read_csv('deep.csv')\n",
        "X = dataset1[['input']].values\n",
        "y = dataset1[['output']].values"
      ],
      "metadata": {
        "id": "PaKxT9lYZ7_r"
      },
      "execution_count": null,
      "outputs": []
    },
    {
      "cell_type": "code",
      "source": [
        "X_train, X_test, y_train, y_test = train_test_split(X, y, test_size=0.33, random_state=33)"
      ],
      "metadata": {
        "id": "0s9XNKnraBB1"
      },
      "execution_count": null,
      "outputs": []
    },
    {
      "cell_type": "code",
      "source": [
        "scaler = MinMaxScaler()\n",
        "X_train = scaler.fit_transform(X_train)\n",
        "X_test = scaler.transform(X_test)"
      ],
      "metadata": {
        "id": "YhvC6ogzaEHT"
      },
      "execution_count": null,
      "outputs": []
    },
    {
      "cell_type": "code",
      "source": [
        "X_train_tensor = torch.tensor(X_train, dtype=torch.float32)\n",
        "y_train_tensor = torch.tensor(y_train, dtype=torch.float32).view(-1, 1)\n",
        "X_test_tensor = torch.tensor(X_test, dtype=torch.float32)\n",
        "y_test_tensor = torch.tensor(y_test, dtype=torch.float32).view(-1, 1)"
      ],
      "metadata": {
        "id": "ht0VjANUaImU"
      },
      "execution_count": null,
      "outputs": []
    },
    {
      "cell_type": "code",
      "source": [
        "# Name:Sriram S S\n",
        "# Register Number:212222230150\n",
        "class NeuralNet(nn.Module):\n",
        "  def __init__(self):\n",
        "        super().__init__()\n",
        "        self.fc1=nn.Linear(1,5)\n",
        "        self.fc2=nn.Linear(5,10)\n",
        "        self.fc3=nn.Linear(10,1)\n",
        "        self.relu=nn.ReLU()\n",
        "        self.history={'loss':[]}\n",
        "  def forward(self,x):\n",
        "    x=self.relu(self.fc1(x))\n",
        "    x=self.relu(self.fc2(x))\n",
        "    x=self.fc3(x)\n",
        "    return x\n",
        "\n",
        "\n",
        "\n",
        "\n",
        "\n"
      ],
      "metadata": {
        "id": "sFkMMUXwIsxs"
      },
      "execution_count": null,
      "outputs": []
    },
    {
      "cell_type": "code",
      "source": [
        "# Initialize the Model, Loss Function, and Optimizer\n",
        "ai_brain = NeuralNet()\n",
        "criterion = nn.MSELoss()\n",
        "optimizer = optim.RMSprop(ai_brain.parameters(), lr=0.001)\n"
      ],
      "metadata": {
        "id": "LYCcZwd3aVXr"
      },
      "execution_count": null,
      "outputs": []
    },
    {
      "cell_type": "code",
      "source": [
        "# Name:S.S.Sriram\n",
        "# Register Number:212222230150\n",
        "def train_model(ai_brain, X_train, y_train, criterion, optimizer, epochs=4000):\n",
        "    for epoch in range(epochs):\n",
        "        optimizer.zero_grad()\n",
        "        loss = criterion(ai_brain(X_train), y_train)\n",
        "        loss.backward()\n",
        "        optimizer.step()\n",
        "\n",
        "\n",
        "\n",
        "\n",
        "        ai_brain.history['loss'].append(loss.item())\n",
        "        if epoch % 200 == 0:\n",
        "            print(f'Epoch [{epoch}/{epochs}], Loss: {loss.item():.6f}')\n"
      ],
      "metadata": {
        "id": "j04FRGu5aabj"
      },
      "execution_count": null,
      "outputs": []
    },
    {
      "cell_type": "code",
      "source": [
        "train_model(ai_brain, X_train_tensor, y_train_tensor, criterion, optimizer)\n"
      ],
      "metadata": {
        "id": "3nT2R4-NanGb",
        "colab": {
          "base_uri": "https://localhost:8080/"
        },
        "outputId": "6bc4fbb0-8ab5-4760-8d58-3caca5f7f903"
      },
      "execution_count": null,
      "outputs": [
        {
          "output_type": "stream",
          "name": "stdout",
          "text": [
            "Epoch [0/4000], Loss: 0.005670\n",
            "Epoch [200/4000], Loss: 0.005658\n",
            "Epoch [400/4000], Loss: 0.005656\n",
            "Epoch [600/4000], Loss: 0.005680\n",
            "Epoch [800/4000], Loss: 0.005690\n",
            "Epoch [1000/4000], Loss: 0.005682\n",
            "Epoch [1200/4000], Loss: 0.005658\n",
            "Epoch [1400/4000], Loss: 0.005665\n",
            "Epoch [1600/4000], Loss: 0.005650\n",
            "Epoch [1800/4000], Loss: 0.005660\n",
            "Epoch [2000/4000], Loss: 0.005678\n",
            "Epoch [2200/4000], Loss: 0.005673\n",
            "Epoch [2400/4000], Loss: 0.005659\n",
            "Epoch [2600/4000], Loss: 0.005672\n",
            "Epoch [2800/4000], Loss: 0.005664\n",
            "Epoch [3000/4000], Loss: 0.005648\n",
            "Epoch [3200/4000], Loss: 0.005646\n",
            "Epoch [3400/4000], Loss: 0.005660\n",
            "Epoch [3600/4000], Loss: 0.005672\n",
            "Epoch [3800/4000], Loss: 0.005677\n"
          ]
        }
      ]
    },
    {
      "cell_type": "code",
      "source": [
        "with torch.no_grad():\n",
        "    test_loss = criterion(ai_brain(X_test_tensor), y_test_tensor)\n",
        "    print(f'Test Loss: {test_loss.item():.6f}')\n"
      ],
      "metadata": {
        "id": "Hs52rJD-aq-r",
        "colab": {
          "base_uri": "https://localhost:8080/"
        },
        "outputId": "0f5af8e4-f3cb-4620-b89b-646a0867f11f"
      },
      "execution_count": null,
      "outputs": [
        {
          "output_type": "stream",
          "name": "stdout",
          "text": [
            "Test Loss: 0.457308\n"
          ]
        }
      ]
    },
    {
      "cell_type": "code",
      "source": [
        "loss_df = pd.DataFrame(ai_brain.history)"
      ],
      "metadata": {
        "id": "fSU0R1jPYzBY"
      },
      "execution_count": null,
      "outputs": []
    },
    {
      "cell_type": "code",
      "source": [
        "import matplotlib.pyplot as plt\n",
        "loss_df.plot()\n",
        "plt.xlabel(\"Epochs\")\n",
        "plt.ylabel(\"Loss\")\n",
        "plt.title(\"Loss during Training\")\n",
        "plt.show()"
      ],
      "metadata": {
        "id": "XRU1WLwAZuh4",
        "colab": {
          "base_uri": "https://localhost:8080/",
          "height": 472
        },
        "outputId": "3ff03d9d-a5b5-4272-8f3d-e04e3c25d55f"
      },
      "execution_count": null,
      "outputs": [
        {
          "output_type": "display_data",
          "data": {
            "text/plain": [
              "<Figure size 640x480 with 1 Axes>"
            ],
            "image/png": "[encoded data removed]"
          },
          "metadata": {}
        }
      ]
    },
    {
      "cell_type": "code",
      "source": [
        "X_n1_1 = torch.tensor([[10]], dtype=torch.float32)\n",
        "prediction = ai_brain(torch.tensor(scaler.transform(X_n1_1), dtype=torch.float32)).item()\n",
        "print(f'Prediction: {prediction}')"
      ],
      "metadata": {
        "id": "mr_JhBRZauxb",
        "colab": {
          "base_uri": "https://localhost:8080/"
        },
        "outputId": "1117cae9-facb-477d-b5dc-3ab800895ae4"
      },
      "execution_count": null,
      "outputs": [
        {
          "output_type": "stream",
          "name": "stdout",
          "text": [
            "Prediction: 50.07084655761719\n"
          ]
        }
      ]
    }
  ]
}